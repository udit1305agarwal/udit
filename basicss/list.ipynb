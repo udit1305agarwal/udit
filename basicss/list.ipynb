{
 "cells": [
  {
   "cell_type": "markdown",
   "metadata": {},
   "source": [
    "-creation\n",
    "-indexing and slicing\n",
    "-operators with list\n",
    "-functions\n",
    "-list comprehension\n",
    "-lambda expression\n",
    "-map and filter\n"
   ]
  },
  {
   "cell_type": "markdown",
   "metadata": {},
   "source": [
    "#properties\n",
    "- is indexed\n",
    "- is mutable\n",
    "- is hetrogenous\n",
    "- is represented by square brackets\n"
   ]
  },
  {
   "cell_type": "code",
   "execution_count": 4,
   "metadata": {},
   "outputs": [
    {
     "name": "stdout",
     "output_type": "stream",
     "text": [
      "[]\n",
      "['red', 'blue', 'green']\n",
      "[True, False, True]\n",
      "[1, 2, 'apple', 'banana', True, 21.23]\n"
     ]
    }
   ],
   "source": [
    "x = [] # empty list\n",
    "print(x)\n",
    "colors = ['red', 'blue', 'green']\n",
    "print(colors)\n",
    "z = [True, False, True]\n",
    "print(z)\n",
    "a = [1,2,'apple', 'banana', True,21.23]\n",
    "print(a)\n"
   ]
  },
  {
   "cell_type": "code",
   "execution_count": 10,
   "metadata": {},
   "outputs": [
    {
     "name": "stdout",
     "output_type": "stream",
     "text": [
      "['S', 'y', 'l', 'e', 's', 't', 'o', 'l', 'e']\n",
      "5664\n",
      "[344, 5664, 76543, 76543, 3232]\n",
      "[3232, 76543, 76543, 5664, 344, 1]\n"
     ]
    }
   ],
   "source": [
    "name = \"Sylestole\"\n",
    "name_char = list(name)\n",
    "print(name_char)\n",
    "x = [1,344,5664,76543,76543,3232]\n",
    "print(x[2])\n",
    "print(x[-5:])\n",
    "print(x[::-1])"
   ]
  },
  {
   "cell_type": "markdown",
   "metadata": {},
   "source": [
    "## functions (methods)\n",
    "- for adding items\n",
    "    - append\n",
    "    - insert\n",
    "    - extend\n",
    "- for removing item\n",
    "    - remove\n",
    "    - pop\n",
    "    - clear\n",
    "- other functions\n",
    "    - count\n",
    "    - index\n",
    "    - copy\n",
    "    - reverse\n",
    "    - sort\n",
    "    "
   ]
  },
  {
   "cell_type": "code",
   "execution_count": 27,
   "metadata": {},
   "outputs": [
    {
     "name": "stdout",
     "output_type": "stream",
     "text": [
      "['pylkgrim', ' Julius caeser', 'Legion', 'Final  part']\n",
      "['red', 'blue', 'green', 'orange']\n",
      "['pylkgrim', ' Julius caeser', 'Legion', 'Final  part', 'new moon', ' the chambers of secrets']\n"
     ]
    },
    {
     "data": {
      "text/plain": [
       "' the chambers of secrets'"
      ]
     },
     "execution_count": 27,
     "metadata": {},
     "output_type": "execute_result"
    }
   ],
   "source": [
    "books = ['pylkgrim', ' Julius caeser']\n",
    "books.append(\"Legion\")\n",
    "books.append(\"Final  part\")\n",
    "print(books)\n",
    "x = ['red', 'blue', 'orange']\n",
    "x.insert(2,'green')\n",
    "print(x)\n",
    "new_books = ['new moon', ' the chambers of secrets']\n",
    "books.extend(new_books)\n",
    "books\n",
    "print(books)\n",
    "if 12 in books:\n",
    "    books.remove(12)\n",
    "books\n",
    "deleted_item = books.pop()\n",
    "deleted_item\n"
   ]
  },
  {
   "cell_type": "code",
   "execution_count": 28,
   "metadata": {},
   "outputs": [],
   "source": [
    "x = [1,2,3]*3 + [1,2]*5\n"
   ]
  },
  {
   "cell_type": "code",
   "execution_count": 29,
   "metadata": {},
   "outputs": [
    {
     "data": {
      "text/plain": [
       "[1, 2, 3, 1, 2, 3, 1, 2, 3, 1, 2, 1, 2, 1, 2, 1, 2, 1, 2]"
      ]
     },
     "execution_count": 29,
     "metadata": {},
     "output_type": "execute_result"
    }
   ],
   "source": [
    "x"
   ]
  },
  {
   "cell_type": "code",
   "execution_count": 30,
   "metadata": {},
   "outputs": [
    {
     "data": {
      "text/plain": [
       "8"
      ]
     },
     "execution_count": 30,
     "metadata": {},
     "output_type": "execute_result"
    }
   ],
   "source": [
    "x.count(2)"
   ]
  },
  {
   "cell_type": "code",
   "execution_count": null,
   "metadata": {},
   "outputs": [],
   "source": []
  }
 ],
 "metadata": {
  "interpreter": {
   "hash": "33dc6d49505b4536b6a128d9d7c879e1fa44477ad44947bbbe73093067fe6393"
  },
  "kernelspec": {
   "display_name": "Python 3.9.7 64-bit",
   "language": "python",
   "name": "python3"
  },
  "language_info": {
   "codemirror_mode": {
    "name": "ipython",
    "version": 3
   },
   "file_extension": ".py",
   "mimetype": "text/x-python",
   "name": "python",
   "nbconvert_exporter": "python",
   "pygments_lexer": "ipython3",
   "version": "3.9.7"
  },
  "orig_nbformat": 4
 },
 "nbformat": 4,
 "nbformat_minor": 2
}
